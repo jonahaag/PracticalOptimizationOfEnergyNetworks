{
 "cells": [
  {
   "cell_type": "markdown",
   "metadata": {},
   "source": [
    "Start with some imports"
   ]
  },
  {
   "cell_type": "code",
   "execution_count": 1,
   "metadata": {},
   "outputs": [],
   "source": [
    "import pandapower as pp\n",
    "import pandapower.networks as nw\n",
    "import pandapower.plotting as pplt\n",
    "import matplotlib.pyplot as plt\n",
    "import numpy as np\n",
    "import numba\n",
    "import pandas as pd\n",
    "import pulp as pl\n",
    "import xlsxwriter as xl"
   ]
  },
  {
   "cell_type": "markdown",
   "metadata": {},
   "source": [
    "Create the CIGRE network"
   ]
  },
  {
   "cell_type": "code",
   "execution_count": 2,
   "metadata": {},
   "outputs": [],
   "source": [
    "\n",
    "net = nw.create_cigre_network_mv()"
   ]
  },
  {
   "cell_type": "markdown",
   "metadata": {},
   "source": [
    "1.1 State of the network"
   ]
  },
  {
   "cell_type": "code",
   "execution_count": 3,
   "metadata": {},
   "outputs": [
    {
     "name": "stdout",
     "output_type": "stream",
     "text": [
      "Loads\n",
      "0     14.99400\n",
      "1      0.27645\n",
      "2      0.43165\n",
      "3      0.72750\n",
      "4      0.54805\n",
      "5      0.58685\n",
      "6      0.47530\n",
      "7      0.32980\n",
      "8     14.99400\n",
      "9      0.20855\n",
      "10     4.84500\n",
      "11     0.22525\n",
      "12     0.07650\n",
      "13     0.57375\n",
      "14     0.06800\n",
      "15     5.01600\n",
      "16     0.03400\n",
      "17     0.33150\n",
      "Name: p_mw, dtype: float64\n",
      "Bus voltages\n",
      "0     1.030000\n",
      "1     0.991972\n",
      "2     0.968147\n",
      "3     0.930961\n",
      "4     0.929098\n",
      "5     0.927823\n",
      "6     0.926321\n",
      "7     0.925122\n",
      "8     0.925404\n",
      "9     0.924422\n",
      "10    0.923174\n",
      "11    0.922980\n",
      "12    1.000146\n",
      "13    0.995326\n",
      "14    0.992553\n",
      "Name: vm_pu, dtype: float64\n",
      "Trafo loading\n",
      "0    101.411473\n",
      "1     84.698048\n",
      "Name: loading_percent, dtype: float64\n",
      "Line loading\n"
     ]
    },
    {
     "data": {
      "text/plain": [
       "0     96.482978\n",
       "1     96.958807\n",
       "2     37.580668\n",
       "3     28.091021\n",
       "4     12.122901\n",
       "5      1.936801\n",
       "6     33.550914\n",
       "7     19.476278\n",
       "8      7.294089\n",
       "9     48.143637\n",
       "10     9.476242\n",
       "11     8.908939\n",
       "12     0.084082\n",
       "13     0.171049\n",
       "14     0.037287\n",
       "Name: loading_percent, dtype: float64"
      ]
     },
     "execution_count": 3,
     "metadata": {},
     "output_type": "execute_result"
    }
   ],
   "source": [
    "pp.runpp(net)\n",
    "print(\"Loads\")\n",
    "print(net.res_load.p_mw)\n",
    "print(\"Bus voltages\")\n",
    "print(net.res_bus.vm_pu)\n",
    "print(\"Trafo loading\")\n",
    "print(net.res_trafo.loading_percent)\n",
    "print(\"Line loading\")\n",
    "net.res_line.loading_percent"
   ]
  },
  {
   "cell_type": "markdown",
   "metadata": {},
   "source": [
    "Check initial switch positions"
   ]
  },
  {
   "cell_type": "code",
   "execution_count": null,
   "metadata": {},
   "outputs": [],
   "source": [
    "net.switch"
   ]
  },
  {
   "cell_type": "markdown",
   "metadata": {},
   "source": [
    "1.2 N-1 analysis"
   ]
  },
  {
   "cell_type": "code",
   "execution_count": null,
   "metadata": {},
   "outputs": [],
   "source": [
    "# limits\n",
    "vmax = 1.1\n",
    "vmin = .9\n",
    "max_ll = 100.\n",
    "\n",
    "lines = net.line.index\n",
    "critical = list()\n",
    "\n",
    "for l in lines:\n",
    "    net.line.loc[l, \"in_service\"] = False\n",
    "    pp.runpp(net)\n",
    "\n",
    "    if net.res_bus.vm_pu.max() > vmax or net.res_bus.vm_pu.min() < vmin or net.res_line.loading_percent.max() > max_ll:\n",
    "        critical.append(l)\n",
    "    net.line.loc[l, \"in_service\"] = True\n",
    "\n",
    "ax = pplt.simple_plot(net, show_plot=False)\n",
    "clc = pplt.create_line_collection(net, critical, color=\"r\", linewidth=3., use_bus_geodata=True)\n",
    "pplt.draw_collections([clc], ax=ax)\n",
    "plt.show()"
   ]
  },
  {
   "cell_type": "markdown",
   "metadata": {},
   "source": [
    "1.3 N-1 with smaller limits"
   ]
  },
  {
   "cell_type": "code",
   "execution_count": null,
   "metadata": {},
   "outputs": [],
   "source": [
    "# limits\n",
    "vmax = 1.05\n",
    "vmin = .95\n",
    "max_ll = 100.\n",
    "\n",
    "lines = net.line.index\n",
    "critical = list()\n",
    "\n",
    "for l in lines:\n",
    "    net.line.loc[l, \"in_service\"] = False\n",
    "    pp.runpp(net)\n",
    "\n",
    "    if net.res_bus.vm_pu.max() > vmax or net.res_bus.vm_pu.min() < vmin or net.res_line.loading_percent.max() > max_ll:\n",
    "        critical.append(l)\n",
    "    net.line.loc[l, \"in_service\"] = True\n",
    "\n",
    "ax = pplt.simple_plot(net, show_plot=False)\n",
    "clc = pplt.create_line_collection(net, critical, color=\"r\", linewidth=3., use_bus_geodata=True)\n",
    "pplt.draw_collections([clc], ax=ax)\n",
    "plt.show()"
   ]
  }
 ],
 "metadata": {
  "kernelspec": {
   "display_name": "Python 3.7.12 64-bit",
   "language": "python",
   "name": "python3"
  },
  "language_info": {
   "codemirror_mode": {
    "name": "ipython",
    "version": 3
   },
   "file_extension": ".py",
   "mimetype": "text/x-python",
   "name": "python",
   "nbconvert_exporter": "python",
   "pygments_lexer": "ipython3",
   "version": "3.7.12"
  },
  "orig_nbformat": 4,
  "vscode": {
   "interpreter": {
    "hash": "7a3d88c904243d2c3f246166597f86d1c0a39f3d97496d1fe394945d0c6d436d"
   }
  }
 },
 "nbformat": 4,
 "nbformat_minor": 2
}
