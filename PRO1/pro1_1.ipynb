{
 "cells": [
  {
   "cell_type": "markdown",
   "metadata": {},
   "source": [
    "Start with some imports"
   ]
  },
  {
   "cell_type": "code",
   "execution_count": 1,
   "metadata": {},
   "outputs": [],
   "source": [
    "import pandapower as pp\n",
    "import pandapower.networks as nw\n",
    "import pandapower.plotting as pplt\n",
    "import matplotlib.pyplot as plt\n",
    "import numpy as np\n",
    "import numba\n",
    "import pandas as pd\n",
    "import pulp as pl\n",
    "import xlsxwriter as xl"
   ]
  },
  {
   "cell_type": "markdown",
   "metadata": {},
   "source": [
    "Create the CIGRE network"
   ]
  },
  {
   "cell_type": "code",
   "execution_count": 2,
   "metadata": {},
   "outputs": [],
   "source": [
    "\n",
    "net = nw.create_cigre_network_mv()"
   ]
  },
  {
   "cell_type": "markdown",
   "metadata": {},
   "source": [
    "1.1 State of the network"
   ]
  },
  {
   "cell_type": "code",
   "execution_count": 3,
   "metadata": {},
   "outputs": [
    {
     "name": "stdout",
     "output_type": "stream",
     "text": [
      "Bus voltages\n",
      "0     1.030000\n",
      "1     0.991972\n",
      "2     0.968147\n",
      "3     0.930961\n",
      "4     0.929098\n",
      "5     0.927823\n",
      "6     0.926321\n",
      "7     0.925122\n",
      "8     0.925404\n",
      "9     0.924422\n",
      "10    0.923174\n",
      "11    0.922980\n",
      "12    1.000146\n",
      "13    0.995326\n",
      "14    0.992553\n",
      "Name: vm_pu, dtype: float64\n",
      "Trafo loading\n",
      "0    101.411473\n",
      "1     84.698048\n",
      "Name: loading_percent, dtype: float64\n",
      "Line loading\n"
     ]
    },
    {
     "data": {
      "text/plain": [
       "0     96.482978\n",
       "1     96.958807\n",
       "2     37.580668\n",
       "3     28.091021\n",
       "4     12.122901\n",
       "5      1.936801\n",
       "6     33.550914\n",
       "7     19.476278\n",
       "8      7.294089\n",
       "9     48.143637\n",
       "10     9.476242\n",
       "11     8.908939\n",
       "12     0.084082\n",
       "13     0.171049\n",
       "14     0.037287\n",
       "Name: loading_percent, dtype: float64"
      ]
     },
     "execution_count": 3,
     "metadata": {},
     "output_type": "execute_result"
    }
   ],
   "source": [
    "pp.runpp(net)\n",
    "print(\"Bus voltages\")\n",
    "print(net.res_bus.vm_pu)\n",
    "print(\"Trafo loading\")\n",
    "print(net.res_trafo.loading_percent)\n",
    "print(\"Line loading\")\n",
    "net.res_line.loading_percent"
   ]
  },
  {
   "cell_type": "markdown",
   "metadata": {},
   "source": [
    "1.2 N-1 analysis"
   ]
  },
  {
   "cell_type": "code",
   "execution_count": 4,
   "metadata": {},
   "outputs": [
    {
     "name": "stderr",
     "output_type": "stream",
     "text": [
      "0 in collections is of unknown type. Skipping\n"
     ]
    },
    {
     "data": {
      "image/png": "[encoded data removed]",
      "text/plain": [
       "<Figure size 720x576 with 1 Axes>"
      ]
     },
     "metadata": {},
     "output_type": "display_data"
    }
   ],
   "source": [
    "# limits\n",
    "vmax = 1.1\n",
    "vmin = .9\n",
    "max_ll = 100.\n",
    "\n",
    "lines = net.line.index\n",
    "critical = list()\n",
    "\n",
    "for l in lines:\n",
    "    net.line.loc[l, \"in_service\"] = False\n",
    "    pp.runpp(net)\n",
    "\n",
    "    if net.res_bus.vm_pu.max() > vmax or net.res_bus.vm_pu.min() < vmin or net.res_line.loading_percent.max() > max_ll:\n",
    "        critical.append(l)\n",
    "    net.line.loc[l, \"in_service\"] = True\n",
    "\n",
    "ax = pplt.simple_plot(net, show_plot=False)\n",
    "clc = pplt.create_line_collection(net, critical, color=\"r\", linewidth=3., use_bus_geodata=True)\n",
    "pplt.draw_collections([clc], ax=ax)\n",
    "plt.show()"
   ]
  },
  {
   "cell_type": "markdown",
   "metadata": {},
   "source": [
    "1.3 N-1 with smaller limits"
   ]
  },
  {
   "cell_type": "code",
   "execution_count": 5,
   "metadata": {},
   "outputs": [
    {
     "data": {
      "image/png": "[encoded data removed]",
      "text/plain": [
       "<Figure size 720x576 with 1 Axes>"
      ]
     },
     "metadata": {},
     "output_type": "display_data"
    }
   ],
   "source": [
    "# limits\n",
    "vmax = 1.05\n",
    "vmin = .95\n",
    "max_ll = 100.\n",
    "\n",
    "lines = net.line.index\n",
    "critical = list()\n",
    "\n",
    "for l in lines:\n",
    "    net.line.loc[l, \"in_service\"] = False\n",
    "    pp.runpp(net)\n",
    "\n",
    "    if net.res_bus.vm_pu.max() > vmax or net.res_bus.vm_pu.min() < vmin or net.res_line.loading_percent.max() > max_ll:\n",
    "        critical.append(l)\n",
    "    net.line.loc[l, \"in_service\"] = True\n",
    "\n",
    "ax = pplt.simple_plot(net, show_plot=False)\n",
    "clc = pplt.create_line_collection(net, critical, color=\"r\", linewidth=3., use_bus_geodata=True)\n",
    "pplt.draw_collections([clc], ax=ax)\n",
    "plt.show()"
   ]
  },
  {
   "cell_type": "markdown",
   "metadata": {},
   "source": [
    "2 Add low voltage buses and EV charging stations"
   ]
  },
  {
   "cell_type": "code",
   "execution_count": 47,
   "metadata": {},
   "outputs": [
    {
     "data": {
      "text/plain": [
       "7.0"
      ]
     },
     "execution_count": 47,
     "metadata": {},
     "output_type": "execute_result"
    }
   ],
   "source": [
    "# net.bus_geodata"
   ]
  },
  {
   "cell_type": "code",
   "execution_count": 7,
   "metadata": {},
   "outputs": [
    {
     "data": {
      "text/plain": [
       "6"
      ]
     },
     "execution_count": 7,
     "metadata": {},
     "output_type": "execute_result"
    }
   ],
   "source": [
    "pp.create_bus(net, name=\"Bus CS 1\", vn_kv=0.4, type=\"b\", geodata=((3,14))) # play around with the geodata\n",
    "pp.create_bus(net, name=\"Bus CS 2\", vn_kv=0.4, type=\"b\", geodata=((3,10)))\n",
    "pp.create_bus(net, name=\"Bus CS 3\", vn_kv=0.4, type=\"b\", geodata=((0,6)))\n",
    "pp.create_bus(net, name=\"Bus CS 4\", vn_kv=0.4, type=\"b\", geodata=((7,2)))\n",
    "pp.create_bus(net, name=\"Bus CS 5\", vn_kv=0.4, type=\"b\", geodata=((5,4)))\n",
    "# select high voltage buses to connect the transformers (and thus CVs) to\n",
    "pp.create_transformer(net, hv_bus=1, lv_bus=pp.get_element_index(net, \"bus\", \"Bus CS 1\"), name=\"CS 1\", std_type=\"0.25 MVA 20/0.4 kV\")\n",
    "pp.create_transformer(net, hv_bus=3, lv_bus=pp.get_element_index(net, \"bus\", \"Bus CS 2\"), name=\"CS 2\", std_type=\"0.25 MVA 20/0.4 kV\")\n",
    "pp.create_transformer(net, hv_bus=5, lv_bus=pp.get_element_index(net, \"bus\", \"Bus CS 3\"), name=\"CS 3\", std_type=\"0.25 MVA 20/0.4 kV\")\n",
    "pp.create_transformer(net, hv_bus=7, lv_bus=pp.get_element_index(net, \"bus\", \"Bus CS 4\"), name=\"CS 4\", std_type=\"0.25 MVA 20/0.4 kV\")\n",
    "pp.create_transformer(net, hv_bus=9, lv_bus=pp.get_element_index(net, \"bus\", \"Bus CS 5\"), name=\"CS 5\", std_type=\"0.25 MVA 20/0.4 kV\")"
   ]
  },
  {
   "cell_type": "markdown",
   "metadata": {},
   "source": [
    "Do some plotting"
   ]
  },
  {
   "cell_type": "code",
   "execution_count": 8,
   "metadata": {},
   "outputs": [
    {
     "data": {
      "image/png": "[encoded data removed]",
      "text/plain": [
       "<Figure size 720x576 with 1 Axes>"
      ]
     },
     "metadata": {},
     "output_type": "display_data"
    }
   ],
   "source": [
    "ax = pplt.simple_plot(net, show_plot=False)\n",
    "clc = pplt.create_line_collection(net, linewidth=3., use_bus_geodata=True)\n",
    "pplt.draw_collections([clc], ax=ax)\n",
    "plt.show()"
   ]
  },
  {
   "cell_type": "markdown",
   "metadata": {},
   "source": [
    "Check existing loads and add EVs"
   ]
  },
  {
   "cell_type": "code",
   "execution_count": 42,
   "metadata": {},
   "outputs": [
    {
     "name": "stdout",
     "output_type": "stream",
     "text": [
      "         name  bus      p_mw    q_mvar  const_z_percent  const_i_percent  \\\n",
      "0     Load R1    1  14.99400  3.044662              0.0              0.0   \n",
      "1     Load R3    3   0.27645  0.069285              0.0              0.0   \n",
      "2     Load R4    4   0.43165  0.108182              0.0              0.0   \n",
      "3     Load R5    5   0.72750  0.182329              0.0              0.0   \n",
      "4     Load R6    6   0.54805  0.137354              0.0              0.0   \n",
      "5     Load R8    8   0.58685  0.147078              0.0              0.0   \n",
      "6    Load R10   10   0.47530  0.119121              0.0              0.0   \n",
      "7    Load R11   11   0.32980  0.082656              0.0              0.0   \n",
      "8    Load R12   12  14.99400  3.044662              0.0              0.0   \n",
      "9    Load R14   14   0.20855  0.052268              0.0              0.0   \n",
      "10   Load CI1    1   4.84500  1.592474              0.0              0.0   \n",
      "11   Load CI3    3   0.22525  0.139597              0.0              0.0   \n",
      "12   Load CI7    7   0.07650  0.047410              0.0              0.0   \n",
      "13   Load CI9    9   0.57375  0.355578              0.0              0.0   \n",
      "14  Load CI10   10   0.06800  0.042143              0.0              0.0   \n",
      "15  Load CI12   12   5.01600  1.648679              0.0              0.0   \n",
      "16  Load CI13   13   0.03400  0.021071              0.0              0.0   \n",
      "17  Load CI14   14   0.33150  0.205445              0.0              0.0   \n",
      "\n",
      "    sn_mva  scaling  in_service type  \n",
      "0   15.300      1.0        True  wye  \n",
      "1    0.285      1.0        True  wye  \n",
      "2    0.445      1.0        True  wye  \n",
      "3    0.750      1.0        True  wye  \n",
      "4    0.565      1.0        True  wye  \n",
      "5    0.605      1.0        True  wye  \n",
      "6    0.490      1.0        True  wye  \n",
      "7    0.340      1.0        True  wye  \n",
      "8   15.300      1.0        True  wye  \n",
      "9    0.215      1.0        True  wye  \n",
      "10   5.100      1.0        True  wye  \n",
      "11   0.265      1.0        True  wye  \n",
      "12   0.090      1.0        True  wye  \n",
      "13   0.675      1.0        True  wye  \n",
      "14   0.080      1.0        True  wye  \n",
      "15   5.280      1.0        True  wye  \n",
      "16   0.040      1.0        True  wye  \n",
      "17   0.390      1.0        True  wye  \n",
      "Load R1\n",
      "Load R3\n",
      "Load R4\n",
      "Load R5\n",
      "Load R6\n",
      "Load R8\n",
      "Load R10\n",
      "Load R11\n",
      "Load R12\n",
      "Load R14\n",
      "Load CI1\n",
      "Load CI3\n",
      "Load CI7\n",
      "Load CI9\n",
      "Load CI10\n",
      "Load CI12\n",
      "Load CI13\n",
      "Load CI14\n"
     ]
    }
   ],
   "source": [
    "p_mw = np.array(net.load.p_mw).reshape((1,18))\n",
    "q_mvar = np.array(net.load.q_mvar).reshape((1,18))\n",
    "loadshape_nominal = np.array([0.28285, 0.272295, 0.2613828, 0.261328, 0.254316, 0.259789, 0.272966, 0.30915, 0.433979, 0.542955, 0.717333, 0.851829, 0.864118, 0.854116, 0.853815, 0.852508, 0.723452, 0.490362, 0.428271, 0.361402, 0.336596, 0.328176, 0.307331, 0.297966]).reshape((24,1))\n",
    "loadshape_p_mw = np.multiply(loadshape_nominal, p_mw)\n",
    "loadshape_q_mvar = np.multiply(loadshape_nominal, q_mvar)\n",
    "# e.g. to access loadshape of load 0 use loadshape_p_mw[:,0]"
   ]
  }
 ],
 "metadata": {
  "kernelspec": {
   "display_name": "Python 3.7.12 64-bit",
   "language": "python",
   "name": "python3"
  },
  "language_info": {
   "codemirror_mode": {
    "name": "ipython",
    "version": 3
   },
   "file_extension": ".py",
   "mimetype": "text/x-python",
   "name": "python",
   "nbconvert_exporter": "python",
   "pygments_lexer": "ipython3",
   "version": "3.7.12"
  },
  "orig_nbformat": 4,
  "vscode": {
   "interpreter": {
    "hash": "7a3d88c904243d2c3f246166597f86d1c0a39f3d97496d1fe394945d0c6d436d"
   }
  }
 },
 "nbformat": 4,
 "nbformat_minor": 2
}
